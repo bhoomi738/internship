{
 "cells": [
  {
   "cell_type": "code",
   "execution_count": 1,
   "id": "ed572e04-2077-4ded-aa49-6805545535ba",
   "metadata": {},
   "outputs": [
    {
     "name": "stdout",
     "output_type": "stream",
     "text": [
      "Original list: [1, 2, 3, 4, 6]\n",
      "After adding an element: [1, 2, 3, 4, 6, 5]\n",
      "After removing an element: [1, 2, 3, 4, 5]\n",
      "After modifying an element: [1, 0, 3, 4, 5]\n"
     ]
    }
   ],
   "source": [
    "# List operations\n",
    "my_list = [1, 2, 3, 4, 6]\n",
    "print(\"Original list:\", my_list)\n",
    "\n",
    "# Adding an element\n",
    "my_list.append(5)\n",
    "print(\"After adding an element:\", my_list)\n",
    "\n",
    "# Removing an element\n",
    "my_list.remove(6)\n",
    "print(\"After removing an element:\", my_list)\n",
    "\n",
    "# Modifying an element\n",
    "my_list[1] = 0\n",
    "print(\"After modifying an element:\", my_list)\n",
    "\n"
   ]
  },
  {
   "cell_type": "code",
   "execution_count": 3,
   "id": "7f5faaae-512b-4152-8c3b-c57f9ea9ff01",
   "metadata": {},
   "outputs": [
    {
     "name": "stdout",
     "output_type": "stream",
     "text": [
      "\n",
      "Original dictionary: {'a': 1, 'b': 2, 'c': 3}\n",
      "After adding a key-value pair: {'a': 1, 'b': 2, 'c': 3, 'd': 4}\n",
      "After removing a key-value pair: {'a': 1, 'c': 3, 'd': 4}\n",
      "After modifying a value: {'a': 5, 'c': 3, 'd': 4}\n"
     ]
    }
   ],
   "source": [
    "# Dictionary operations\n",
    "my_dict = {'a' : 1, 'b' : 2 , 'c' : 3 }\n",
    "print(\"\\nOriginal dictionary:\", my_dict)\n",
    "\n",
    "# Adding a key-value pair\n",
    "my_dict['d'] = 4\n",
    "print(\"After adding a key-value pair:\", my_dict)\n",
    "\n",
    "# Removing a key-value pair\n",
    "del my_dict['b']\n",
    "print(\"After removing a key-value pair:\", my_dict)\n",
    "\n",
    "# Modifying a value\n",
    "my_dict['a'] = 5\n",
    "print(\"After modifying a value:\", my_dict)\n",
    "\n"
   ]
  },
  {
   "cell_type": "code",
   "execution_count": 4,
   "id": "151f5841-457b-406f-a2eb-e4590a85a3ad",
   "metadata": {},
   "outputs": [
    {
     "name": "stdout",
     "output_type": "stream",
     "text": [
      "Updated set : {1, 3, 4}\n"
     ]
    }
   ],
   "source": [
    "# Set operations\n",
    "my_set = {1, 2, 3}\n",
    "\n",
    "\n",
    "# Adding an element\n",
    "my_set.add(4)\n",
    "\n",
    "\n",
    "# Removing an element\n",
    "my_set.remove(2)\n",
    "\n",
    "print(\"Updated set :\" , my_set)"
   ]
  },
  {
   "cell_type": "code",
   "execution_count": null,
   "id": "9e4618d1-7a3e-4ff4-ad46-13ab3db8581d",
   "metadata": {},
   "outputs": [],
   "source": []
  }
 ],
 "metadata": {
  "kernelspec": {
   "display_name": "Python 3 (ipykernel)",
   "language": "python",
   "name": "python3"
  },
  "language_info": {
   "codemirror_mode": {
    "name": "ipython",
    "version": 3
   },
   "file_extension": ".py",
   "mimetype": "text/x-python",
   "name": "python",
   "nbconvert_exporter": "python",
   "pygments_lexer": "ipython3",
   "version": "3.12.4"
  }
 },
 "nbformat": 4,
 "nbformat_minor": 5
}
